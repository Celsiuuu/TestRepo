{
 "cells": [
  {
   "cell_type": "markdown",
   "id": "c44c9bc1",
   "metadata": {},
   "source": [
    "# Data Science Tools and Ecosystem\n"
   ]
  },
  {
   "cell_type": "markdown",
   "id": "cd009ed7",
   "metadata": {},
   "source": [
    "## In this notebook, Data Science Tools and Ecosystem are summarized.\n"
   ]
  },
  {
   "cell_type": "markdown",
   "id": "6158d402",
   "metadata": {},
   "source": [
    "## Some of the popular languages that Data Scientists use are:\n",
    "\n",
    "- Python  \n",
    "- R  \n",
    "- SQL  \n",
    "- Julia  \n"
   ]
  },
  {
   "cell_type": "markdown",
   "id": "c815242a",
   "metadata": {},
   "source": [
    "##  Some of the commonly used libraries by Data Scientists include:\n",
    "\n",
    "- **NumPy** – Numerical computing and arrays  \n",
    "- **Pandas** – Data manipulation and analysis  \n",
    "- **Matplotlib** – Data visualization  \n",
    "- **Seaborn** – Statistical data visualization  \n",
    "- **Scikit-learn** – Machine learning  "
   ]
  },
  {
   "cell_type": "markdown",
   "id": "a3269919",
   "metadata": {},
   "source": [
    "## Data Science Tools\n",
    "\n",
    "| Data Science Tools |\n",
    "|---------------------|\n",
    "| Jupyter Notebook    |\n",
    "| RStudio             |\n",
    "| Apache Zeppelin     |\n"
   ]
  },
  {
   "cell_type": "markdown",
   "id": "1b861e5a",
   "metadata": {},
   "source": [
    "## Introducing arithmetic expressions in python \n",
    "### Below are a few examples of evaluating arithmetic expressions in Python\n"
   ]
  },
  {
   "cell_type": "code",
   "execution_count": 4,
   "id": "ceb0f659",
   "metadata": {},
   "outputs": [
    {
     "data": {
      "text/plain": [
       "17"
      ]
     },
     "execution_count": 4,
     "metadata": {},
     "output_type": "execute_result"
    }
   ],
   "source": [
    "# This is a simple arithmetic expression to multiply then add integers\n",
    "(3 * 4) + 5\n",
    "\n",
    "\n"
   ]
  },
  {
   "cell_type": "code",
   "execution_count": 5,
   "id": "5e24b1cd",
   "metadata": {},
   "outputs": [
    {
     "data": {
      "text/plain": [
       "3.3333333333333335"
      ]
     },
     "execution_count": 5,
     "metadata": {},
     "output_type": "execute_result"
    }
   ],
   "source": [
    "# This will convert 200 minutes to hours by dividing by 60\n",
    "200 / 60\n"
   ]
  },
  {
   "cell_type": "markdown",
   "id": "8aff789c",
   "metadata": {},
   "source": [
    "# Objectives:\n",
    "\n",
    "- List popular languages for Data Science  \n",
    "- Identify commonly used libraries by Data Scientists  \n",
    "- Create tables in Markdown  \n",
    "- Perform simple arithmetic expressions in Python  \n",
    "- Convert units (e.g., minutes to hours) using Python  \n"
   ]
  },
  {
   "cell_type": "markdown",
   "id": "b013fa73",
   "metadata": {},
   "source": [
    "## Author\n",
    "\n",
    "Celso Rodrigues\n"
   ]
  },
  {
   "cell_type": "code",
   "execution_count": null,
   "id": "6f84a77d",
   "metadata": {},
   "outputs": [],
   "source": []
  }
 ],
 "metadata": {
  "kernelspec": {
   "display_name": "Python 3 (ipykernel)",
   "language": "python",
   "name": "python3"
  },
  "language_info": {
   "codemirror_mode": {
    "name": "ipython",
    "version": 3
   },
   "file_extension": ".py",
   "mimetype": "text/x-python",
   "name": "python",
   "nbconvert_exporter": "python",
   "pygments_lexer": "ipython3",
   "version": "3.9.13"
  }
 },
 "nbformat": 4,
 "nbformat_minor": 5
}
